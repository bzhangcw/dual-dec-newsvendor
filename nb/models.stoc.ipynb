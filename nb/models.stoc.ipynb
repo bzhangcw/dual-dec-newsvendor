{
 "cells": [
  {
   "cell_type": "code",
   "execution_count": 1,
   "metadata": {},
   "outputs": [
    {
     "name": "stdout",
     "output_type": "stream",
     "text": [
      "\u001b[35massets\u001b[m\u001b[m@             model.lp            repair.det.old.md   repair.md\n",
      "eval.all.csv        models.ipynb        repair.det.pdf      repair.pdf\n",
      "eval.py             models.stoc.ipynb   repair.det.tex      repair.stoc.md\n",
      "gurobi.log          \u001b[1m\u001b[36mpyrp\u001b[m\u001b[m/               repair.det.tex.raw  repair.tex\n",
      "\u001b[1m\u001b[36minstances\u001b[m\u001b[m/          repair.bib          repair.det.xdv      repair.tex.raw\n",
      "log.log             repair.det.html     repair.html         repair.xdv\n",
      "main.py             repair.det.md       repair.intros.md    test.sh\n"
     ]
    }
   ],
   "source": [
    "ls"
   ]
  },
  {
   "cell_type": "code",
   "execution_count": 12,
   "metadata": {},
   "outputs": [],
   "source": [
    "import importlib\n",
    "import numpy as np \n",
    "from collections import namedtuple as nt"
   ]
  },
  {
   "cell_type": "code",
   "execution_count": 3,
   "metadata": {},
   "outputs": [],
   "source": [
    "import pandas as pd\n",
    "from pyrp.util import *\n",
    "import importlib"
   ]
  },
  {
   "cell_type": "code",
   "execution_count": 20,
   "metadata": {},
   "outputs": [],
   "source": [
    "kwargs = {\"subproblem_alg\": 'dp',\n",
    "          \"mp\": True,\n",
    "          \"scale\": 15}\n",
    "  \n",
    "num_i = 10\n",
    "num_t = 15\n",
    "\n",
    "mp = kwargs.get('mp', False)\n",
    "subproblem_alg = kwargs.get('subproblem_alg', 'dp')\n",
    "\n",
    "problem = create_instance_vec(num_i, num_t, 100)\n",
    "h, b = problem['h'], problem['p']\n",
    "T = problem['T']\n",
    "I = problem['I']\n",
    "D = problem['D']\n",
    "numI = len(problem['I'])\n",
    "\n",
    "# # query subproblem algorithm\n",
    "# if subproblem_alg == 'mip':\n",
    "#   # use mip\n",
    "#   subproblem_method = pms.single_mip\n",
    "# elif subproblem_alg == 'dp':\n",
    "#   # use dp\n",
    "#   subproblem_method = pmsd.single_dp\n",
    "# else:\n",
    "#   raise ValueError(\"unknown method for sub problem\")"
   ]
  },
  {
   "cell_type": "code",
   "execution_count": 37,
   "metadata": {},
   "outputs": [],
   "source": [
    "d_array = problem['Darr']\n",
    "d_mu = np.mean(d_array, axis=0)\n",
    "d_cov = np.cov(d_array, rowvar=False)"
   ]
  },
  {
   "cell_type": "markdown",
   "metadata": {},
   "source": [
    "## Benchmark by Conic\n",
    "\n",
    "With moment uncertainty for $\\boldsymbol d: \\mathbb{E}(\\boldsymbol d) = \\mu_0, ...$, in @delage_distributionally_2010. The DRO model is equivalent to the following problem:\n",
    "\n",
    "$$\\begin{aligned}\n",
    "\\min_{\\boldsymbol{U}, \\boldsymbol{Q}, \\boldsymbol{\\beta}, r, s} & \\left(\\gamma_{2} \\boldsymbol{\\Sigma}_{0}-\\boldsymbol{\\mu}_{0} \\boldsymbol{\\mu}_{0}^{\\top}\\right) \\bullet \\boldsymbol{Q}+r+\\left(\\boldsymbol{\\Sigma}_{0} \\bullet \\boldsymbol{P}\\right)-2 \\boldsymbol{\\mu}_{0}^{\\top} \\boldsymbol{p} + \\gamma_{1} s \\\\\n",
    "\\mathbf { s.t. } & \\\\\n",
    "& \\boldsymbol{Q} \\succeq 0, \\boldsymbol{\\beta} \\in \\mathbb{R}^{|T|}, \n",
    "\\begin{bmatrix}\n",
    "  \\boldsymbol{P} & \\boldsymbol{p} \\\\\n",
    "  \\boldsymbol{p}^\\top & s\n",
    "\\end{bmatrix} \\succeq 0, \\; \n",
    "\\boldsymbol \\beta = 2 (\\boldsymbol p + \\boldsymbol{Q\\mu}_0)\\\\\n",
    "& \\boldsymbol{U} ^\\top e + \\boldsymbol \\delta^+ - \\boldsymbol \\delta^-  = \\boldsymbol d & \\forall \\boldsymbol d \\in \\Xi_d\\\\\n",
    "& \\boldsymbol{d}^{\\top} \\boldsymbol{Q} \\boldsymbol{d} -\\boldsymbol{d^\\top\\beta} + r \\ge e^\\top( b \\cdot\\boldsymbol{\\delta^+}  + h\\cdot \\boldsymbol \\delta^-) & \\forall \\boldsymbol d \\in \\Xi_d \\\\\n",
    "& \\boldsymbol X_{(i,\\cdot)}, \\boldsymbol U_{(i,\\cdot)}, \\boldsymbol S_{(i,\\cdot)} \\in \\Omega_i & \\forall i\\in I\n",
    "\\end{aligned}$$\n",
    "\n",
    "semi-infinite constraints are equivalent to\n",
    "\n",
    "$$\\begin{bmatrix}\n",
    "  \\boldsymbol Q &  (he- \\boldsymbol \\beta)/2 \\\\\n",
    "  (he- \\boldsymbol \\beta)^\\top/2 & r - (h+b)e^\\top \\boldsymbol \\delta^+ - h e^\\top   \\boldsymbol U^\\top e\n",
    "\\end{bmatrix} \\succeq 0$$\n",
    "\n",
    "wrap up:\n",
    "\n",
    "$$\\begin{aligned}\n",
    "\\min_{\\boldsymbol{x}, \\boldsymbol{Q}, \\boldsymbol{\\beta}, r, s} & \\left(\\gamma_{2} \\boldsymbol{\\Sigma}_{0}-\\boldsymbol{\\mu}_{0} \\boldsymbol{\\mu}_{0}^{\\top}\\right) \\bullet \\boldsymbol{Q}+r+\\left(\\boldsymbol{\\Sigma}_{0} \\bullet \\boldsymbol{P}\\right)-2 \\boldsymbol{\\mu}_{0}^{\\top} \\boldsymbol{p} + \\gamma_{1} s \\\\\n",
    "\\mathbf { s.t. } & \\\\\n",
    "& \\boldsymbol{Q} \\succeq 0, \\boldsymbol{\\beta} \\in \\mathbb{R}^{|T|}, \n",
    "\\begin{bmatrix}\n",
    "  \\boldsymbol{P} & \\boldsymbol{p} \\\\\n",
    "  \\boldsymbol{p}^\\top & s\n",
    "\\end{bmatrix} \\succeq 0, \\; \n",
    "\\boldsymbol \\beta = 2 (\\boldsymbol p + \\boldsymbol{Q\\mu}_0)\\\\\n",
    "& \\begin{bmatrix}\n",
    "  \\boldsymbol Q &  (he- \\boldsymbol \\beta)/2 \\\\\n",
    "  (he- \\boldsymbol \\beta)^\\top/2 & r - (h+b)e^\\top \\boldsymbol \\delta^+ - h e^\\top   \\boldsymbol U^\\top e\n",
    "\\end{bmatrix} \\succeq 0 \\\\\n",
    "& \\boldsymbol X_{(i,\\cdot)}, \\boldsymbol U_{(i,\\cdot)}, \\boldsymbol S_{(i,\\cdot)} \\in \\Omega_i & \\forall i\\in I\n",
    "\\end{aligned}$$"
   ]
  },
  {
   "cell_type": "code",
   "execution_count": 39,
   "metadata": {},
   "outputs": [],
   "source": [
    "import mosek.fusion as mf\n",
    "expr = mf.Expr\n",
    "dom = mf.Domain\n",
    "mat = mf.Matrix"
   ]
  },
  {
   "cell_type": "code",
   "execution_count": 41,
   "metadata": {},
   "outputs": [
    {
     "data": {
      "text/plain": [
       "(10, 15)"
      ]
     },
     "execution_count": 41,
     "metadata": {},
     "output_type": "execute_result"
    }
   ],
   "source": [
    "num_i, num_t"
   ]
  },
  {
   "cell_type": "code",
   "execution_count": null,
   "metadata": {},
   "outputs": [],
   "source": [
    "model = mf.Model(\"repair-wt-mmt-uncertainty\")\n",
    "\n",
    "S = model.variable([num_i, num_t], dom.greaterThan(0))\n",
    "X = model.variable([num_i, num_t], dom.binary())\n",
    "U = model.variable([num_i, num_t], dom.binary())\n",
    "s = model.variable([num_i, num_t], dom.greaterThan(0))\n",
    "P = model.variable([num_i, num_i], dom.inPSDCone())\n",
    "p = model.variable([num_i])\n",
    "beta = model.variable([num_i])"
   ]
  },
  {
   "cell_type": "code",
   "execution_count": null,
   "metadata": {},
   "outputs": [],
   "source": []
  },
  {
   "cell_type": "code",
   "execution_count": null,
   "metadata": {},
   "outputs": [],
   "source": []
  }
 ],
 "metadata": {
  "kernelspec": {
   "display_name": "Python 3",
   "language": "python",
   "name": "python3"
  },
  "language_info": {
   "codemirror_mode": {
    "name": "ipython",
    "version": 3
   },
   "file_extension": ".py",
   "mimetype": "text/x-python",
   "name": "python",
   "nbconvert_exporter": "python",
   "pygments_lexer": "ipython3",
   "version": "3.7.3"
  },
  "toc-autonumbering": true,
  "toc-showmarkdowntxt": false
 },
 "nbformat": 4,
 "nbformat_minor": 4
}
