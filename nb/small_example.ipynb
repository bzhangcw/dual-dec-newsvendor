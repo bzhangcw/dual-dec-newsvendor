{
 "cells": [
  {
   "cell_type": "code",
   "execution_count": 1,
   "metadata": {},
   "outputs": [
    {
     "name": "stdout",
     "output_type": "stream",
     "text": [
      "/Users/chuwen/workspace/repair/dualnv\n"
     ]
    }
   ],
   "source": [
    "cd ../dualnv/"
   ]
  },
  {
   "cell_type": "code",
   "execution_count": 2,
   "metadata": {},
   "outputs": [],
   "source": [
    "%reload_ext autoreload\n",
    "%autoreload 2"
   ]
  },
  {
   "cell_type": "code",
   "execution_count": 3,
   "metadata": {},
   "outputs": [],
   "source": [
    "import pickle as pk\n",
    "import sys\n",
    "import time\n",
    "from collections import defaultdict\n",
    "\n",
    "import matplotlib.pyplot as plt\n",
    "from matplotlib.colors import ListedColormap as plc\n",
    "import pyrp.pydp as py\n",
    "import pyrp.model as mip\n",
    "import pyrp.model_sg_alt as subgrad_main\n",
    "from pyrp import *\n",
    "\n",
    "plt.rcParams[\"font.size\"] = 9\n",
    "plt.rcParams[\"font.weight\"] = 400\n",
    "plt.rcParams[\"font.family\"] = \"roboto\"\n",
    "plt.rcParams[\"font.monospace\"] = \"roboto mono\"\n",
    "plt.rcParams[\"lines.linewidth\"] = 0.8\n",
    "plt.rcParams[\"legend.fontsize\"] = \"small\"\n",
    "plt.rcParams[\"text.usetex\"] = True\n",
    "\n",
    "# TEX alias\n",
    "tex_alias = {'lb': r'$\\phi_k$', 'val': r'$\\bar z_k$', 'primal_k': r'$z_k$'}"
   ]
  },
  {
   "cell_type": "code",
   "execution_count": 139,
   "metadata": {},
   "outputs": [],
   "source": [
    "def plot_solution(sol, grayscale=0.99):\n",
    "  greys = plt.get_cmap('Greys')\n",
    "  i = [f\"{x}\" for x in range(sol.shape[0])]\n",
    "  t = range(sol.shape[1])\n",
    "  fig, axes = plt.subplots(nrows=len(i))\n",
    "  axes = [axes] if len(i)==1 else axes\n",
    "  for idx in range(sol.shape[0]):\n",
    "    ax = axes[idx]\n",
    "    isol = sol[idx]\n",
    "    xsol = isol[:, 1] # solution on X\n",
    "    for s_id, s in enumerate(['work', 'repair']):\n",
    "      color = greys(grayscale * isol[:, s_id])\n",
    "      bar = ax.barh(f\"{s}\", 1, left=t, height=0.5,\n",
    "            label=i[idx], color=color)\n",
    "      bar_children = bar.get_children()\n",
    "      for idt, bc in enumerate(bar_children):\n",
    "          if (1 > isol[:, s_id][idt] > 0):\n",
    "            x, y = bc.get_xy()\n",
    "            ax.text(x + 0.5, y + 0.25, f\"{isol[:, s_id][idt]: .2f}\", \n",
    "                    ha='center', va='center', color='w')\n",
    "    ax.xaxis.set_visible(False)\n",
    "  ax.xaxis.set_visible(True)\n",
    "\n",
    "\n",
    "  plt.xlabel(r\"periods $t$\")\n",
    "  plt.ylabel(r\"engines $i$\")\n",
    "  return fig, axes"
   ]
  },
  {
   "cell_type": "markdown",
   "metadata": {},
   "source": [
    "## Small 1x5"
   ]
  },
  {
   "cell_type": "code",
   "execution_count": null,
   "metadata": {},
   "outputs": [],
   "source": []
  },
  {
   "cell_type": "markdown",
   "metadata": {},
   "source": [
    "## Small 2x5"
   ]
  },
  {
   "cell_type": "code",
   "execution_count": 106,
   "metadata": {},
   "outputs": [],
   "source": [
    "np.random.seed(2)\n",
    "ni = num_i = 2\n",
    "nt = num_t = 6"
   ]
  },
  {
   "cell_type": "code",
   "execution_count": 132,
   "metadata": {},
   "outputs": [],
   "source": [
    "# create instance\n",
    "# problem = create_instance(num_i, num_t, True)\n",
    "problem = {\n",
    "  'D': [1.0, 2.0, 2.0, 1.0, 2.0, 1.0],\n",
    "  'a': [5.0, 3.0],\n",
    "  'b': [8.0, 7.0],\n",
    "  'I': ['fl_0', 'fl_1'],\n",
    "  'T': [0, 1, 2, 3, 4, 5],\n",
    "  'L': 2,\n",
    "  'c': np.array([1., 1.]),\n",
    "  'U': 21,\n",
    "  'tau': [1, 1],\n",
    "  's0': [5.0, 5.0],\n",
    "  'h': np.array([1, 2, 4, 4, 3, 1]),\n",
    "  'p': np.array([4, 5, 6, 6, 6, 4])\n",
    "}"
   ]
  },
  {
   "cell_type": "code",
   "execution_count": 133,
   "metadata": {
    "scrolled": true
   },
   "outputs": [
    {
     "name": "stdout",
     "output_type": "stream",
     "text": [
      "Changed value of parameter TimeLimit to 300.0\n",
      "   Prev: inf  Min: 0.0  Max: inf  Default: inf\n",
      "Parameter OutputFlag unchanged\n",
      "   Value: 1  Min: 0  Max: 1  Default: 1\n",
      "Changed value of parameter MIPGap to 0.0\n",
      "   Prev: 0.0001  Min: 0.0  Max: inf  Default: 0.0001\n",
      "Changed value of parameter Threads to 4\n",
      "   Prev: 0  Min: 0  Max: 1024  Default: 0\n",
      "Gurobi Optimizer version 9.1.0 build v9.1.0rc0 (mac64)\n",
      "Thread count: 2 physical cores, 4 logical processors, using up to 4 threads\n",
      "Optimize a model with 36 rows, 42 columns and 104 nonzeros\n",
      "Model fingerprint: 0x2667245a\n",
      "Variable types: 18 continuous, 24 integer (24 binary)\n",
      "Coefficient statistics:\n",
      "  Matrix range     [1e+00, 8e+00]\n",
      "  Objective range  [1e+00, 1e+00]\n",
      "  Bounds range     [1e+00, 2e+00]\n",
      "  RHS range        [1e+00, 1e+01]\n",
      "Presolve removed 15 rows and 13 columns\n",
      "Presolve time: 0.00s\n",
      "Presolved: 21 rows, 29 columns, 64 nonzeros\n",
      "Variable types: 0 continuous, 29 integer (19 binary)\n",
      "Found heuristic solution: objective 31.0000000\n",
      "Found heuristic solution: objective 28.0000000\n",
      "\n",
      "Root relaxation: objective 5.149038e+00, 18 iterations, 0.00 seconds\n",
      "\n",
      "    Nodes    |    Current Node    |     Objective Bounds      |     Work\n",
      " Expl Unexpl |  Obj  Depth IntInf | Incumbent    BestBd   Gap | It/Node Time\n",
      "\n",
      "     0     0    5.14904    0   14   28.00000    5.14904  81.6%     -    0s\n",
      "H    0     0                      16.0000000    5.14904  67.8%     -    0s\n",
      "H    0     0                      10.0000000    5.14904  48.5%     -    0s\n",
      "H    0     0                       9.0000000    5.14904  42.8%     -    0s\n",
      "     0     0    7.44000    0    6    9.00000    7.44000  17.3%     -    0s\n",
      "\n",
      "Cutting planes:\n",
      "  Gomory: 3\n",
      "  MIR: 2\n",
      "  StrongCG: 1\n",
      "  Zero half: 1\n",
      "\n",
      "Explored 1 nodes (22 simplex iterations) in 0.04 seconds\n",
      "Thread count was 4 (of 4 available processors)\n",
      "\n",
      "Solution count 5: 9 10 16 ... 31\n",
      "\n",
      "Optimal solution found (tolerance 0.00e+00)\n",
      "Best objective 9.000000000000e+00, best bound 9.000000000000e+00, gap 0.0000%\n",
      "Changed value of parameter TimeLimit to 300.0\n",
      "   Prev: inf  Min: 0.0  Max: inf  Default: inf\n",
      "Parameter OutputFlag unchanged\n",
      "   Value: 1  Min: 0  Max: 1  Default: 1\n",
      "Changed value of parameter MIPGap to 0.0\n",
      "   Prev: 0.0001  Min: 0.0  Max: inf  Default: 0.0001\n",
      "Changed value of parameter Threads to 4\n",
      "   Prev: 0  Min: 0  Max: 1024  Default: 0\n",
      "Gurobi Optimizer version 9.1.0 build v9.1.0rc0 (mac64)\n",
      "Thread count: 2 physical cores, 4 logical processors, using up to 4 threads\n",
      "Optimize a model with 36 rows, 42 columns and 104 nonzeros\n",
      "Model fingerprint: 0x696c04d9\n",
      "Variable types: 30 continuous, 12 integer (12 binary)\n",
      "Coefficient statistics:\n",
      "  Matrix range     [1e+00, 8e+00]\n",
      "  Objective range  [1e+00, 1e+00]\n",
      "  Bounds range     [1e+00, 2e+00]\n",
      "  RHS range        [1e+00, 1e+01]\n",
      "Found heuristic solution: objective 44.5999999\n",
      "Presolve removed 10 rows and 9 columns\n",
      "Presolve time: 0.00s\n",
      "Presolved: 26 rows, 33 columns, 78 nonzeros\n",
      "Variable types: 23 continuous, 10 integer (10 binary)\n",
      "\n",
      "Root relaxation: objective 5.149038e+00, 27 iterations, 0.00 seconds\n",
      "\n",
      "    Nodes    |    Current Node    |     Objective Bounds      |     Work\n",
      " Expl Unexpl |  Obj  Depth IntInf | Incumbent    BestBd   Gap | It/Node Time\n",
      "\n",
      "     0     0    5.14904    0    4   44.60000    5.14904  88.5%     -    0s\n",
      "H    0     0                      15.3333333    5.14904  66.4%     -    0s\n",
      "H    0     0                       8.1333333    5.14904  36.7%     -    0s\n",
      "     0     0    6.44000    0    4    8.13333    6.44000  20.8%     -    0s\n",
      "     0     0    6.66667    0    4    8.13333    6.66667  18.0%     -    0s\n",
      "\n",
      "Cutting planes:\n",
      "  Gomory: 3\n",
      "  Implied bound: 1\n",
      "  MIR: 6\n",
      "\n",
      "Explored 1 nodes (30 simplex iterations) in 0.03 seconds\n",
      "Thread count was 4 (of 4 available processors)\n",
      "\n",
      "Solution count 3: 8.13333 15.3333 44.6 \n",
      "\n",
      "Optimal solution found (tolerance 0.00e+00)\n",
      "Best objective 8.133333333333e+00, best bound 8.133333333333e+00, gap 0.0000%\n"
     ]
    }
   ],
   "source": [
    "kwargs = {  # kwargs\n",
    "      \"i\": ni,\n",
    "      \"t\": nt,\n",
    "      \"subproblem_alg_name\": 'cppdp_batch',\n",
    "      \"mp\": False,\n",
    "      \"proc\": 0,\n",
    "      \"mp_num\": 4,\n",
    "      \"gap\": 0.001,\n",
    "      \"scale\": nt,\n",
    "      \"max_iteration\": 1000,\n",
    "      \"eps_step\": 1e-5,\n",
    "      \"log_interval\": 20,\n",
    "      \"mip_gap\": 0\n",
    "      # \"evals\": evals\n",
    "}\n",
    "scale = kwargs.get('scale')\n",
    "num_i = kwargs.get('i')\n",
    "num_t = kwargs.get('t')\n",
    "mp_num = kwargs.get('mp_num')\n",
    "mip_gap = kwargs.get('mip_gap')\n",
    "bench_lb = {}\n",
    "bench_sol = {}\n",
    "\n",
    "r = {}\n",
    "# plot series\n",
    "plt_series = []\n",
    "\n",
    "model, sol, *_ = mip.repair_mip_model(\n",
    "        problem, engine='gurobi', scale=scale, mp_num=mp_num, gap=mip_gap)\n",
    "\n",
    "model_relax_u, u_sol, *u_ = mip.repair_mip_model(\n",
    "    problem,\n",
    "    engine='gurobi',\n",
    "    scale=scale,\n",
    "    mp_num=mp_num,\n",
    "    gap=mip_gap,\n",
    "    relax_u=True)\n",
    "\n",
    "# model_relax_x, *x_ = mip.repair_mip_model(\n",
    "#     problem,\n",
    "#     engine='gurobi',\n",
    "#     scale=scale,\n",
    "#     mp_num=mp_num,\n",
    "#     gap=mip_gap,\n",
    "#     relax_x=True)"
   ]
  },
  {
   "cell_type": "code",
   "execution_count": 140,
   "metadata": {},
   "outputs": [
    {
     "data": {
      "image/png": "[encoded data removed]",
      "text/plain": [
       "<Figure size 432x288 with 2 Axes>"
      ]
     },
     "metadata": {
      "needs_background": "light"
     },
     "output_type": "display_data"
    },
    {
     "data": {
      "image/png": "[encoded data removed]",
      "text/plain": [
       "<Figure size 432x288 with 2 Axes>"
      ]
     },
     "metadata": {
      "needs_background": "light"
     },
     "output_type": "display_data"
    }
   ],
   "source": [
    "fig, axes = plot_solution(sol)\n",
    "fig1, axes = plot_solution(u_sol)\n",
    "fig.savefig(f\"/tmp/{ni}x{nt}.png\", dpi=500)\n",
    "fig1.savefig(f\"/tmp/{ni}x{nt}_rel.png\", dpi=500)"
   ]
  },
  {
   "cell_type": "code",
   "execution_count": 96,
   "metadata": {},
   "outputs": [
    {
     "data": {
      "text/plain": [
       "{'D': [2.0, 2.0, 1.0, 1.0, 2.0, 1.0],\n",
       " 'a': [4.0, 3.0],\n",
       " 'b': [8.0, 7.0],\n",
       " 'I': ['fl_0', 'fl_1'],\n",
       " 'T': [0, 1, 2, 3, 4, 5],\n",
       " 'L': 2,\n",
       " 'c': array([1., 1.]),\n",
       " 'U': 21,\n",
       " 'tau': [4, 1],\n",
       " 's0': [5.0, 5.0],\n",
       " 'h': array([1, 2, 4, 4, 3, 1]),\n",
       " 'p': array([4, 5, 5, 5, 4, 4])}"
      ]
     },
     "execution_count": 96,
     "metadata": {},
     "output_type": "execute_result"
    }
   ],
   "source": [
    "problem"
   ]
  }
 ],
 "metadata": {
  "kernelspec": {
   "display_name": "Python 3.7.3 64-bit ('base': conda)",
   "language": "python",
   "name": "python37364bitbasecondad9b47b2c2f124732bd49cf5db6a1a6c9"
  },
  "language_info": {
   "codemirror_mode": {
    "name": "ipython",
    "version": 3
   },
   "file_extension": ".py",
   "mimetype": "text/x-python",
   "name": "python",
   "nbconvert_exporter": "python",
   "pygments_lexer": "ipython3",
   "version": "3.7.3"
  }
 },
 "nbformat": 4,
 "nbformat_minor": 4
}
