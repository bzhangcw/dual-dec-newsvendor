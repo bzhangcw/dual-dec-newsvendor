{
 "cells": [
  {
   "cell_type": "code",
   "execution_count": 2,
   "metadata": {},
   "outputs": [],
   "source": [
    "import importlib\n",
    "from collections import namedtuple as nt"
   ]
  },
  {
   "cell_type": "code",
   "execution_count": 164,
   "metadata": {},
   "outputs": [],
   "source": [
    "import pandas as pd\n",
    "import importlib\n",
    "\n",
    "import mosek.fusion as mf\n",
    "from mosek import callbackcode, dinfitem, iinfitem, liinfitem\n",
    "\n",
    "expr = mf.Expr\n",
    "dom = mf.Domain\n",
    "mat = mf.Matrix\n",
    "\n",
    "\n",
    "np.random.seed(1)"
   ]
  },
  {
   "cell_type": "code",
   "execution_count": 187,
   "metadata": {},
   "outputs": [],
   "source": [
    "n = 20\n",
    "m = 10\n",
    "D = np.random.randint(1, n, size=n)\n",
    "A = np.random.random((m, n))\n",
    "b = np.ones(m) * n\n",
    "c = np.random.random(n)\n",
    "d = c/2\n",
    "\n",
    "args = A, b, c, d, m, n, D"
   ]
  },
  {
   "cell_type": "code",
   "execution_count": 188,
   "metadata": {},
   "outputs": [
    {
     "data": {
      "text/plain": [
       "array([ 8,  6,  3,  8,  1, 12, 10,  1,  8, 15, 16, 16, 18, 13, 18,  1, 12,\n",
       "        3, 14,  6])"
      ]
     },
     "execution_count": 188,
     "metadata": {},
     "output_type": "execute_result"
    }
   ],
   "source": [
    "D"
   ]
  },
  {
   "cell_type": "markdown",
   "metadata": {},
   "source": [
    "## Benchmark by MILP"
   ]
  },
  {
   "cell_type": "code",
   "execution_count": 218,
   "metadata": {},
   "outputs": [],
   "source": [
    "def full_model(*args):\n",
    "  model = mf.Model('full')\n",
    "  y = model.variable(\"y\", n, dom.greaterThan(0))\n",
    "#   y.makeInteger()\n",
    "  delta = model.variable(\"delta\", n, dom.greaterThan(0))\n",
    "  eps = model.variable(\"eps\", n, dom.greaterThan(0))\n",
    "  # constraints\n",
    "  model.constraint(expr.sub(expr.add(y, delta), eps), dom.equalsTo(D.astype(float)))\n",
    "  model.constraint(expr.mul(A, y), dom.lessThan(b))\n",
    "  obj = expr.add(expr.dot(delta, c), expr.dot(eps, d))\n",
    "  model.objective(mf.ObjectiveSense.Minimize, obj)\n",
    "  model.setLogHandler(sys.stdout)\n",
    "  model.acceptedSolutionStatus(mf.AccSolutionStatus.Anything)\n",
    "  model.solve()\n",
    "  model.flushSolutions()\n",
    "  return y.level(), delta.level(), eps.level(), model.primalObjValue()\n",
    "\n",
    "def sub_model(l, *args):\n",
    "  A, b, c, d, m, n, D = args\n",
    "  model = mf.Model('full')\n",
    "  y = model.variable(\"y\", n, dom.greaterThan(0))\n",
    "#   y.makeInteger()\n",
    "  # constraints\n",
    "  model.constraint(expr.mul(A, y), dom.lessThan(b))\n",
    "  obj = expr.sub(expr.dot(l, y), l.dot(D))\n",
    "  model.objective(mf.ObjectiveSense.Minimize, obj)\n",
    "  model.acceptedSolutionStatus(mf.AccSolutionStatus.Anything)\n",
    "  model.solve()\n",
    "  model.flushSolutions()\n",
    "  return y.level(), model.primalObjValue()"
   ]
  },
  {
   "cell_type": "code",
   "execution_count": 219,
   "metadata": {},
   "outputs": [
    {
     "name": "stdout",
     "output_type": "stream",
     "text": [
      "Problem\n",
      "  Name                   : full            \n",
      "  Objective sense        : min             \n",
      "  Type                   : LO (linear optimization problem)\n",
      "  Constraints            : 30              \n",
      "  Cones                  : 0               \n",
      "  Scalar variables       : 61              \n",
      "  Matrix variables       : 0               \n",
      "  Integer variables      : 0               \n",
      "\n",
      "Optimizer started.\n",
      "Presolve started.\n",
      "Linear dependency checker started.\n",
      "Linear dependency checker terminated.\n",
      "Eliminator started.\n",
      "Freed constraints in eliminator : 0\n",
      "Eliminator terminated.\n",
      "Eliminator - tries                  : 1                 time                   : 0.00            \n",
      "Lin. dep.  - tries                  : 1                 time                   : 0.00            \n",
      "Lin. dep.  - number                 : 0               \n",
      "Presolve terminated. Time: 0.00    \n",
      "Problem\n",
      "  Name                   : full            \n",
      "  Objective sense        : min             \n",
      "  Type                   : LO (linear optimization problem)\n",
      "  Constraints            : 30              \n",
      "  Cones                  : 0               \n",
      "  Scalar variables       : 61              \n",
      "  Matrix variables       : 0               \n",
      "  Integer variables      : 0               \n",
      "\n",
      "Optimizer  - threads                : 12              \n",
      "Optimizer  - solved problem         : the primal      \n",
      "Optimizer  - Constraints            : 30\n",
      "Optimizer  - Cones                  : 0\n",
      "Optimizer  - Scalar variables       : 70                conic                  : 0               \n",
      "Optimizer  - Semi-definite variables: 0                 scalarized             : 0               \n",
      "Factor     - setup time             : 0.00              dense det. time        : 0.00            \n",
      "Factor     - ML order time          : 0.00              GP order time          : 0.00            \n",
      "Factor     - nonzeros before factor : 275               after factor           : 275             \n",
      "Factor     - dense dim.             : 0                 flops                  : 5.54e+03        \n",
      "ITE PFEAS    DFEAS    GFEAS    PRSTATUS   POBJ              DOBJ              MU       TIME  \n",
      "0   1.1e+02  6.4e+00  8.6e+01  0.00e+00   1.239744742e+01   1.620925616e-14   4.1e+01  0.00  \n",
      "1   1.4e+01  8.3e-01  1.1e+01  -8.71e-01  5.584318149e+01   5.200507574e+01   5.3e+00  0.01  \n",
      "2   3.7e+00  2.2e-01  2.9e+00  7.21e-01   5.863819647e+01   5.747485231e+01   1.4e+00  0.01  \n",
      "3   1.1e+00  6.6e-02  8.8e-01  1.03e+00   5.266063028e+01   5.230131847e+01   4.2e-01  0.01  \n",
      "4   4.1e-01  2.4e-02  3.2e-01  9.87e-01   5.143919729e+01   5.130735191e+01   1.5e-01  0.01  \n",
      "5   1.0e-01  5.9e-03  7.9e-02  9.38e-01   5.085235417e+01   5.081909783e+01   3.8e-02  0.01  \n",
      "6   1.4e-03  8.4e-05  1.1e-03  1.01e+00   5.060164703e+01   5.060113511e+01   5.4e-04  0.01  \n",
      "7   1.6e-05  9.3e-07  1.2e-05  1.01e+00   5.059796918e+01   5.059796271e+01   5.9e-06  0.02  \n",
      "8   3.3e-09  2.0e-10  2.6e-09  1.00e+00   5.059798313e+01   5.059798313e+01   1.3e-09  0.02  \n",
      "Basis identification started.\n",
      "Primal basis identification phase started.\n",
      "Primal basis identification phase terminated. Time: 0.00\n",
      "Dual basis identification phase started.\n",
      "Dual basis identification phase terminated. Time: 0.00\n",
      "Basis identification terminated. Time: 0.00\n",
      "Optimizer terminated. Time: 0.03    \n",
      "\n",
      "\n",
      "Interior-point solution summary\n",
      "  Problem status  : PRIMAL_AND_DUAL_FEASIBLE\n",
      "  Solution status : OPTIMAL\n",
      "  Primal.  obj: 5.0597983131e+01    nrm: 2e+01    Viol.  con: 2e-09    var: 0e+00  \n",
      "  Dual.    obj: 5.0597983130e+01    nrm: 1e+00    Viol.  con: 8e-11    var: 8e-11  \n",
      "\n",
      "Basic solution summary\n",
      "  Problem status  : PRIMAL_AND_DUAL_FEASIBLE\n",
      "  Solution status : OPTIMAL\n",
      "  Primal.  obj: 5.0597983127e+01    nrm: 2e+01    Viol.  con: 5e-15    var: 0e+00  \n",
      "  Dual.    obj: 5.0597983121e+01    nrm: 1e+00    Viol.  con: 8e-11    var: 9e-11  \n"
     ]
    },
    {
     "data": {
      "text/plain": [
       "(array([ 0.        ,  0.        ,  3.        ,  0.        ,  1.        ,\n",
       "         0.        , 10.        ,  0.        ,  0.        ,  0.        ,\n",
       "         0.        ,  0.        ,  0.        ,  6.27858319, 16.49339575,\n",
       "         0.        ,  4.62573178,  0.        ,  0.        ,  0.        ]),\n",
       " array([ 8.        ,  6.        , -0.        ,  8.        , -0.        ,\n",
       "        12.        , -0.        ,  1.        ,  8.        , 15.        ,\n",
       "        16.        , 16.        , 18.        ,  6.72141681,  1.50660425,\n",
       "         1.        ,  7.37426822,  3.        , 14.        ,  6.        ]),\n",
       " array([0., 0., 0., 0., 0., 0., 0., 0., 0., 0., 0., 0., 0., 0., 0., 0., 0.,\n",
       "        0., 0., 0.]),\n",
       " 50.59798312720183)"
      ]
     },
     "execution_count": 219,
     "metadata": {},
     "output_type": "execute_result"
    }
   ],
   "source": [
    "y_sol, *_ = full_model(*args)\n",
    "y_sol, *_"
   ]
  },
  {
   "cell_type": "markdown",
   "metadata": {},
   "source": [
    "# subgrad + lagrangian heur"
   ]
  },
  {
   "cell_type": "code",
   "execution_count": 220,
   "metadata": {},
   "outputs": [],
   "source": [
    "A, b, c, d, m, n, D = args"
   ]
  },
  {
   "cell_type": "code",
   "execution_count": 221,
   "metadata": {
    "scrolled": true
   },
   "outputs": [
    {
     "name": "stdout",
     "output_type": "stream",
     "text": [
      "k: 0 @z_k: 82.03020131756017; @z_bar: 8.203020131756018; @lb: -126.63;\n",
      "@stepsize: 412.7453694598917; @norm: 189.0; @alp: 0.1\n",
      "k: 1 @z_k: 57.71511192210829; @z_bar: 13.154229310791246; @lb: 46.02796427743557;\n",
      "@stepsize: 0.08986338728852296; @norm: 184.30254198007867; @alp: 0.1\n",
      "k: 2 @z_k: 57.71511192210829; @z_bar: 17.610317571922952; @lb: 46.02796427743557;\n",
      "@stepsize: 0.016064291210729265; @norm: 180.0748297621495; @alp: 0.1\n",
      "k: 3 @z_k: 57.71511192210829; @z_bar: 21.620797006941487; @lb: 46.02796427743557;\n",
      "@stepsize: 0.01654093755432319; @norm: 176.88100460527951; @alp: 0.1\n",
      "k: 4 @z_k: 57.71511192210829; @z_bar: 25.23022849845817; @lb: 46.074451075588506;\n",
      "@stepsize: 0.016941828512244635; @norm: 175.23497226478094; @alp: 0.1\n",
      "k: 5 @z_k: 57.71511192210829; @z_bar: 28.478716840823186; @lb: 46.21413818446413;\n",
      "@stepsize: 0.01725275039950145; @norm: 173.75354315833215; @alp: 0.1\n",
      "k: 6 @z_k: 57.71511192210829; @z_bar: 31.4023563489517; @lb: 46.53072182736862;\n",
      "@stepsize: 0.017458391066337984; @norm: 172.4202569625283; @alp: 0.1\n",
      "k: 7 @z_k: 57.71511192210829; @z_bar: 34.03363190626736; @lb: 46.96673493689154;\n",
      "@stepsize: 0.017524258146819925; @norm: 171.2202993863048; @alp: 0.1\n",
      "k: 8 @z_k: 57.71511192210829; @z_bar: 36.401779907851456; @lb: 47.50887616167483;\n",
      "@stepsize: 0.017484660589044573; @norm: 170.14033756770365; @alp: 0.1\n",
      "k: 9 @z_k: 55.91785092825844; @z_bar: 38.35338700989215; @lb: 48.03196661353962;\n",
      "@stepsize: 0.01742968977055234; @norm: 168.7900772005509; @alp: 0.1\n",
      "k: 10 @z_k: 55.91785092825844; @z_bar: 40.109833401728785; @lb: 48.533477514919404;\n",
      "@stepsize: 0.01734373180622362; @norm: 167.57484287011349; @alp: 0.1\n",
      "k: 11 @z_k: 61.19061749663323; @z_bar: 42.21791181121923; @lb: 48.98652834539272;\n",
      "@stepsize: 0.01715202282890912; @norm: 165.91205817933593; @alp: 0.1\n",
      "k: 12 @z_k: 61.19061749663323; @z_bar: 44.11518237976063; @lb: 49.312791175676345;\n",
      "@stepsize: 0.01694990077590965; @norm: 165.51828578423044; @alp: 0.1\n",
      "k: 13 @z_k: 61.232785317394786; @z_bar: 45.82694267352405; @lb: 49.699707096283674;\n",
      "@stepsize: 0.016786488610234417; @norm: 165.50423859844247; @alp: 0.1\n",
      "k: 14 @z_k: 63.34990266279785; @z_bar: 47.57923867245144; @lb: 50.07001231074791;\n",
      "@stepsize: 0.016602742088378176; @norm: 165.30995837089003; @alp: 0.1\n",
      "k: 15 @z_k: 57.134630700897475; @z_bar: 48.534777875296044; @lb: 50.076642465979056;\n",
      "@stepsize: 0.01657081186858596; @norm: 162.85889328714143; @alp: 0.1\n",
      "k: 16 @z_k: 57.13463070089748; @z_bar: 49.39476315785619; @lb: 50.076642465979056;\n",
      "@stepsize: 0.016685711995900025; @norm: 160.6529347117677; @alp: 0.1\n",
      "k: 17 @z_k: 57.134630700897475; @z_bar: 50.16874991216032; @lb: 50.076642465979056;\n",
      "@stepsize: 0.016771847907778307; @norm: 159.4713048991416; @alp: 0.1\n"
     ]
    }
   ],
   "source": [
    "sol_container = nt(\"sol\", [\"primal_sol\", \"primal_val\", \"lb\"])\n",
    "sol_container.primal_sol = []\n",
    "sol_container.primal_val = []\n",
    "sol_container.lb = []\n",
    "l0 = np.ones(n) * 0.67\n",
    "\n",
    "l_bar = l_k = l0.copy()\n",
    "x_bar = 0\n",
    "z_bar = 0\n",
    "z_star = worst = c.dot(D)\n",
    "gap = 0.005\n",
    "alp = alp_max = 0.1\n",
    "r0 = 1\n",
    "lb = -1e6\n",
    "improved = 0\n",
    "\n",
    "\n",
    "for k in range(0, 100):\n",
    "  \n",
    "  if (k + 1) % 50 == 0:\n",
    "    alp_max *= 0.5\n",
    "  \n",
    "  # solve relaxation\n",
    "  x_k, phi_k = sub_model(l_k, *args)\n",
    "  x_bar = (1 - alp) * x_bar + x_k * (alp)\n",
    "  \n",
    "  # subgrad & heur\n",
    "  surplus = (x_k - D)\n",
    "  surplus_idx = surplus > 0\n",
    "  z_k = (d * surplus)[surplus_idx].sum() \\\n",
    "    - (c * surplus)[~surplus_idx].sum()\n",
    "  \n",
    "  z_bar = (1 - alp) * z_bar + z_k * (alp)\n",
    "\n",
    "  # compute multipliers from l_b, t_b\n",
    "  partial_lambda = x_bar - D\n",
    "  step = 1 / (partial_lambda.dot(partial_lambda)) * (worst - lb) * r0\n",
    "\n",
    "  l_k = l_bar + step * partial_lambda\n",
    "\n",
    "  l_k = np.minimum(np.maximum(l_k, -c), d)\n",
    "\n",
    "  # eval\n",
    "  if phi_k > lb:\n",
    "    lb = phi_k\n",
    "    l_bar = l_k.copy()\n",
    "    improved = 0\n",
    "  else:\n",
    "    improved += 1\n",
    "    if improved >= 30:\n",
    "      r0 = r0 / 2\n",
    "      improved = 0\n",
    "\n",
    "  # update alp\n",
    "\n",
    "  print(\n",
    "    f\"k: {k} @z_k: {z_k}; @z_bar: {z_bar}; @lb: {lb};\\n\"\n",
    "    f\"@stepsize: {step}; @norm: {np.abs(partial_lambda).sum()}; @alp: {alp}\"\n",
    "  )\n",
    "  sol_container.primal_sol = x_bar\n",
    "  sol_container.primal_val.append(z_bar)\n",
    "  sol_container.lb.append(lb)\n",
    "  \n",
    "  if abs(z_bar - lb) / abs(z_bar) < gap:\n",
    "    break"
   ]
  },
  {
   "cell_type": "code",
   "execution_count": 222,
   "metadata": {},
   "outputs": [
    {
     "data": {
      "text/plain": [
       "array([ 0.        ,  0.        ,  4.86954576,  0.        ,  2.37163463,\n",
       "        0.        , 10.40186645,  0.        ,  0.        ,  0.        ,\n",
       "        0.        ,  0.        ,  0.        ,  2.11034854, 14.799011  ,\n",
       "        0.        ,  2.2623824 ,  0.        ,  0.        ,  0.        ])"
      ]
     },
     "execution_count": 222,
     "metadata": {},
     "output_type": "execute_result"
    }
   ],
   "source": [
    "x_bar"
   ]
  },
  {
   "cell_type": "code",
   "execution_count": 215,
   "metadata": {},
   "outputs": [
    {
     "data": {
      "text/plain": [
       "array([ 0.,  0.,  3.,  0.,  1.,  0.,  6.,  0.,  0.,  0.,  0.,  0.,  1.,\n",
       "        7., 15.,  0.,  8.,  0.,  0.,  0.])"
      ]
     },
     "execution_count": 215,
     "metadata": {},
     "output_type": "execute_result"
    }
   ],
   "source": [
    "y_sol"
   ]
  },
  {
   "cell_type": "code",
   "execution_count": 216,
   "metadata": {},
   "outputs": [
    {
     "data": {
      "text/plain": [
       "array([ 8,  6,  3,  8,  1, 12, 10,  1,  8, 15, 16, 16, 18, 13, 18,  1, 12,\n",
       "        3, 14,  6])"
      ]
     },
     "execution_count": 216,
     "metadata": {},
     "output_type": "execute_result"
    }
   ],
   "source": [
    "D"
   ]
  },
  {
   "cell_type": "code",
   "execution_count": 217,
   "metadata": {},
   "outputs": [
    {
     "data": {
      "text/plain": [
       "array([0.48148581, 0.19203127, 0.84711292, 0.50337761, 0.52716018,\n",
       "       0.28807959, 0.51199923, 0.00196365, 0.27729504, 0.34876298,\n",
       "       0.28395089, 0.08595223, 0.52178121, 0.78847913, 0.94259844,\n",
       "       0.49728979, 0.59375386, 0.29085994, 0.14915951, 0.13187169])"
      ]
     },
     "execution_count": 217,
     "metadata": {},
     "output_type": "execute_result"
    }
   ],
   "source": [
    "c"
   ]
  }
 ],
 "metadata": {
  "kernelspec": {
   "display_name": "Python 3",
   "language": "python",
   "name": "python3"
  },
  "language_info": {
   "codemirror_mode": {
    "name": "ipython",
    "version": 3
   },
   "file_extension": ".py",
   "mimetype": "text/x-python",
   "name": "python",
   "nbconvert_exporter": "python",
   "pygments_lexer": "ipython3",
   "version": "3.8.3"
  },
  "toc-autonumbering": true,
  "toc-showmarkdowntxt": false
 },
 "nbformat": 4,
 "nbformat_minor": 4
}
